{
 "cells": [
  {
   "cell_type": "code",
   "execution_count": 118,
   "metadata": {},
   "outputs": [],
   "source": [
    "import numpy as np\n",
    "import pandas as pd\n",
    "from ckiptagger import WS\n",
    "from sklearn.model_selection import train_test_split\n",
    "import json"
   ]
  },
  {
   "cell_type": "code",
   "execution_count": 14,
   "metadata": {},
   "outputs": [],
   "source": [
    "#斷詞\n",
    "ws = WS(\"./ckip\")"
   ]
  },
  {
   "cell_type": "code",
   "execution_count": 23,
   "metadata": {},
   "outputs": [],
   "source": [
    "with open('data/news.json', encoding=\"utf-8\") as f:\n",
    "    data = json.load(f)"
   ]
  },
  {
   "cell_type": "code",
   "execution_count": 28,
   "metadata": {},
   "outputs": [
    {
     "name": "stdout",
     "output_type": "stream",
     "text": [
      "shape of data = (7507, 4)\n"
     ]
    },
    {
     "data": {
      "text/html": [
       "<div>\n",
       "<style scoped>\n",
       "    .dataframe tbody tr th:only-of-type {\n",
       "        vertical-align: middle;\n",
       "    }\n",
       "\n",
       "    .dataframe tbody tr th {\n",
       "        vertical-align: top;\n",
       "    }\n",
       "\n",
       "    .dataframe thead th {\n",
       "        text-align: right;\n",
       "    }\n",
       "</style>\n",
       "<table border=\"1\" class=\"dataframe\">\n",
       "  <thead>\n",
       "    <tr style=\"text-align: right;\">\n",
       "      <th></th>\n",
       "      <th>title</th>\n",
       "      <th>date</th>\n",
       "      <th>author</th>\n",
       "      <th>content</th>\n",
       "    </tr>\n",
       "  </thead>\n",
       "  <tbody>\n",
       "    <tr>\n",
       "      <th>0</th>\n",
       "      <td>《新聞透視》花媽心內話 攪動初選排序</td>\n",
       "      <td>2017/12/26</td>\n",
       "      <td>【李義、林宏聰】</td>\n",
       "      <td>都是心內話，藍綠兩樣情！民進黨5立委搶當高雄市長陳菊接班人，讀著《花媽心內話》各自畫重點...</td>\n",
       "    </tr>\n",
       "    <tr>\n",
       "      <th>1</th>\n",
       "      <td>上任後第一把火 韓國瑜議會督軍 藍營炮火猛</td>\n",
       "      <td>2017/09/29</td>\n",
       "      <td>【林宏聰／高雄報導】</td>\n",
       "      <td>「這一小步，代表未來高雄政黨政治一大步！」新任國民黨高市黨部主委韓國瑜，28日首度進市議...</td>\n",
       "    </tr>\n",
       "    <tr>\n",
       "      <th>2</th>\n",
       "      <td>價格崩跌 買蕉贈弱勢 挺蕉農 韓國瑜籲政府扛責任</td>\n",
       "      <td>2017/10/15</td>\n",
       "      <td>【林雅惠／高雄報導】</td>\n",
       "      <td>國內香蕉價格自6月起持續下滑，至今產地收購價格每公斤2元到5元，國民黨高市黨部主委韓國瑜...</td>\n",
       "    </tr>\n",
       "    <tr>\n",
       "      <th>3</th>\n",
       "      <td>主委坐鎮先禮後兵 藍標語激怒綠</td>\n",
       "      <td>2017/09/29</td>\n",
       "      <td>【林宏聰／高雄報導】</td>\n",
       "      <td>藍綠28日在議會先禮後兵，相互強調理性問政後，國民黨團隨即聯合質詢，重砲抨擊高雄人口變「...</td>\n",
       "    </tr>\n",
       "    <tr>\n",
       "      <th>4</th>\n",
       "      <td>不禮讓 大綠議員提名36席起跳</td>\n",
       "      <td>2017/10/25</td>\n",
       "      <td>【李義／高雄報導】</td>\n",
       "      <td>明年大選，民進黨面臨內憂外患，內是新秀爭雄僧多粥少，外有國民黨明星主委韓國瑜領軍要搶攻議...</td>\n",
       "    </tr>\n",
       "  </tbody>\n",
       "</table>\n",
       "</div>"
      ],
      "text/plain": [
       "                      title        date      author  \\\n",
       "0        《新聞透視》花媽心內話 攪動初選排序  2017/12/26    【李義、林宏聰】   \n",
       "1     上任後第一把火 韓國瑜議會督軍 藍營炮火猛  2017/09/29  【林宏聰／高雄報導】   \n",
       "2  價格崩跌 買蕉贈弱勢 挺蕉農 韓國瑜籲政府扛責任  2017/10/15  【林雅惠／高雄報導】   \n",
       "3           主委坐鎮先禮後兵 藍標語激怒綠  2017/09/29  【林宏聰／高雄報導】   \n",
       "4           不禮讓 大綠議員提名36席起跳  2017/10/25   【李義／高雄報導】   \n",
       "\n",
       "                                             content  \n",
       "0    都是心內話，藍綠兩樣情！民進黨5立委搶當高雄市長陳菊接班人，讀著《花媽心內話》各自畫重點...  \n",
       "1    「這一小步，代表未來高雄政黨政治一大步！」新任國民黨高市黨部主委韓國瑜，28日首度進市議...  \n",
       "2    國內香蕉價格自6月起持續下滑，至今產地收購價格每公斤2元到5元，國民黨高市黨部主委韓國瑜...  \n",
       "3    藍綠28日在議會先禮後兵，相互強調理性問政後，國民黨團隨即聯合質詢，重砲抨擊高雄人口變「...  \n",
       "4    明年大選，民進黨面臨內憂外患，內是新秀爭雄僧多粥少，外有國民黨明星主委韓國瑜領軍要搶攻議...  "
      ]
     },
     "execution_count": 28,
     "metadata": {},
     "output_type": "execute_result"
    }
   ],
   "source": [
    "df_data = pd.DataFrame([data[i] for i in range(len(data))])\n",
    "print(\"shape of data = {}\".format(df.shape))\n",
    "df_data.head()"
   ]
  },
  {
   "cell_type": "code",
   "execution_count": 112,
   "metadata": {},
   "outputs": [],
   "source": [
    "news_list = ws(df_data[\"content\"])"
   ]
  },
  {
   "cell_type": "code",
   "execution_count": 126,
   "metadata": {},
   "outputs": [],
   "source": [
    "df_data[\"content_segmented\"] = news_list"
   ]
  },
  {
   "cell_type": "code",
   "execution_count": 127,
   "metadata": {},
   "outputs": [
    {
     "data": {
      "text/html": [
       "<div>\n",
       "<style scoped>\n",
       "    .dataframe tbody tr th:only-of-type {\n",
       "        vertical-align: middle;\n",
       "    }\n",
       "\n",
       "    .dataframe tbody tr th {\n",
       "        vertical-align: top;\n",
       "    }\n",
       "\n",
       "    .dataframe thead th {\n",
       "        text-align: right;\n",
       "    }\n",
       "</style>\n",
       "<table border=\"1\" class=\"dataframe\">\n",
       "  <thead>\n",
       "    <tr style=\"text-align: right;\">\n",
       "      <th></th>\n",
       "      <th>title</th>\n",
       "      <th>date</th>\n",
       "      <th>author</th>\n",
       "      <th>content</th>\n",
       "      <th>content_segmented</th>\n",
       "    </tr>\n",
       "  </thead>\n",
       "  <tbody>\n",
       "    <tr>\n",
       "      <th>0</th>\n",
       "      <td>《新聞透視》花媽心內話 攪動初選排序</td>\n",
       "      <td>2017/12/26</td>\n",
       "      <td>【李義、林宏聰】</td>\n",
       "      <td>都是心內話，藍綠兩樣情！民進黨5立委搶當高雄市長陳菊接班人，讀著《花媽心內話》各自畫重點...</td>\n",
       "      <td>[  , 都, 是, 心, 內話, ，, 藍, 綠, 兩樣, 情, ！, 民進黨, 5, 立...</td>\n",
       "    </tr>\n",
       "    <tr>\n",
       "      <th>1</th>\n",
       "      <td>上任後第一把火 韓國瑜議會督軍 藍營炮火猛</td>\n",
       "      <td>2017/09/29</td>\n",
       "      <td>【林宏聰／高雄報導】</td>\n",
       "      <td>「這一小步，代表未來高雄政黨政治一大步！」新任國民黨高市黨部主委韓國瑜，28日首度進市議...</td>\n",
       "      <td>[  , 「, 這, 一, 小, 步, ，, 代表, 未來, 高雄, 政黨, 政治, 一, ...</td>\n",
       "    </tr>\n",
       "    <tr>\n",
       "      <th>2</th>\n",
       "      <td>價格崩跌 買蕉贈弱勢 挺蕉農 韓國瑜籲政府扛責任</td>\n",
       "      <td>2017/10/15</td>\n",
       "      <td>【林雅惠／高雄報導】</td>\n",
       "      <td>國內香蕉價格自6月起持續下滑，至今產地收購價格每公斤2元到5元，國民黨高市黨部主委韓國瑜...</td>\n",
       "      <td>[  , 國內, 香蕉, 價格, 自, 6月, 起, 持續, 下滑, ，, 至今, 產地, ...</td>\n",
       "    </tr>\n",
       "    <tr>\n",
       "      <th>3</th>\n",
       "      <td>主委坐鎮先禮後兵 藍標語激怒綠</td>\n",
       "      <td>2017/09/29</td>\n",
       "      <td>【林宏聰／高雄報導】</td>\n",
       "      <td>藍綠28日在議會先禮後兵，相互強調理性問政後，國民黨團隨即聯合質詢，重砲抨擊高雄人口變「...</td>\n",
       "      <td>[  , 藍綠, 28日, 在, 議會, 先禮, 後兵, ，, 相互, 強調, 理性, 問政...</td>\n",
       "    </tr>\n",
       "    <tr>\n",
       "      <th>4</th>\n",
       "      <td>不禮讓 大綠議員提名36席起跳</td>\n",
       "      <td>2017/10/25</td>\n",
       "      <td>【李義／高雄報導】</td>\n",
       "      <td>明年大選，民進黨面臨內憂外患，內是新秀爭雄僧多粥少，外有國民黨明星主委韓國瑜領軍要搶攻議...</td>\n",
       "      <td>[  , 明年, 大選, ，, 民進黨, 面臨, 內憂外患, ，, 內, 是, 新秀, 爭雄...</td>\n",
       "    </tr>\n",
       "  </tbody>\n",
       "</table>\n",
       "</div>"
      ],
      "text/plain": [
       "                      title        date      author  \\\n",
       "0        《新聞透視》花媽心內話 攪動初選排序  2017/12/26    【李義、林宏聰】   \n",
       "1     上任後第一把火 韓國瑜議會督軍 藍營炮火猛  2017/09/29  【林宏聰／高雄報導】   \n",
       "2  價格崩跌 買蕉贈弱勢 挺蕉農 韓國瑜籲政府扛責任  2017/10/15  【林雅惠／高雄報導】   \n",
       "3           主委坐鎮先禮後兵 藍標語激怒綠  2017/09/29  【林宏聰／高雄報導】   \n",
       "4           不禮讓 大綠議員提名36席起跳  2017/10/25   【李義／高雄報導】   \n",
       "\n",
       "                                             content  \\\n",
       "0    都是心內話，藍綠兩樣情！民進黨5立委搶當高雄市長陳菊接班人，讀著《花媽心內話》各自畫重點...   \n",
       "1    「這一小步，代表未來高雄政黨政治一大步！」新任國民黨高市黨部主委韓國瑜，28日首度進市議...   \n",
       "2    國內香蕉價格自6月起持續下滑，至今產地收購價格每公斤2元到5元，國民黨高市黨部主委韓國瑜...   \n",
       "3    藍綠28日在議會先禮後兵，相互強調理性問政後，國民黨團隨即聯合質詢，重砲抨擊高雄人口變「...   \n",
       "4    明年大選，民進黨面臨內憂外患，內是新秀爭雄僧多粥少，外有國民黨明星主委韓國瑜領軍要搶攻議...   \n",
       "\n",
       "                                   content_segmented  \n",
       "0  [  , 都, 是, 心, 內話, ，, 藍, 綠, 兩樣, 情, ！, 民進黨, 5, 立...  \n",
       "1  [  , 「, 這, 一, 小, 步, ，, 代表, 未來, 高雄, 政黨, 政治, 一, ...  \n",
       "2  [  , 國內, 香蕉, 價格, 自, 6月, 起, 持續, 下滑, ，, 至今, 產地, ...  \n",
       "3  [  , 藍綠, 28日, 在, 議會, 先禮, 後兵, ，, 相互, 強調, 理性, 問政...  \n",
       "4  [  , 明年, 大選, ，, 民進黨, 面臨, 內憂外患, ，, 內, 是, 新秀, 爭雄...  "
      ]
     },
     "execution_count": 127,
     "metadata": {},
     "output_type": "execute_result"
    }
   ],
   "source": [
    "df_data.head()"
   ]
  },
  {
   "cell_type": "code",
   "execution_count": 149,
   "metadata": {},
   "outputs": [],
   "source": [
    "stopword_punc = []\n",
    "with open('stop_punctuation.txt', 'r', encoding = 'utf8') as file:\n",
    "    for data in file.readlines():\n",
    "        data = data.strip()\n",
    "        stopword_punc.append(data)"
   ]
  },
  {
   "cell_type": "code",
   "execution_count": 150,
   "metadata": {},
   "outputs": [],
   "source": [
    "def strQ2B(ustring):\n",
    "    \"\"\"把字串全形轉半形\"\"\"\n",
    "    ss = []\n",
    "    for s in ustring:\n",
    "        rstring = \"\"\n",
    "        for uchar in s:\n",
    "            inside_code = ord(uchar)\n",
    "            if inside_code == 12288:  # 全形空格直接轉換\n",
    "                inside_code = 32\n",
    "            elif (inside_code >= 65281 and inside_code <= 65374):  # 全形字元（除空格）根據關係轉化\n",
    "                inside_code -= 65248\n",
    "            rstring += chr(inside_code)\n",
    "        ss.append(rstring)\n",
    "    return ''.join(ss)"
   ]
  },
  {
   "cell_type": "code",
   "execution_count": 151,
   "metadata": {},
   "outputs": [],
   "source": [
    "def word_preprocessing(news, stopword):\n",
    "    '''\n",
    "    1. remove punctuations\n",
    "    2. 文字全形轉半形\n",
    "    '''\n",
    "    news = [word.strip(' ') for word in news]\n",
    "    for word in news:\n",
    "        if (word == '' or word == '\\n'):\n",
    "            news.remove(word)\n",
    "        elif word in stopword:\n",
    "            news.remove(word)\n",
    "        else:\n",
    "            word = strQ2B(word)\n",
    "    return news"
   ]
  },
  {
   "cell_type": "code",
   "execution_count": 152,
   "metadata": {},
   "outputs": [],
   "source": [
    "df_data[\"content_segmented\"] = df_data[\"content_segmented\"].apply(lambda news : word_preprocessing(news, stopword_punc))"
   ]
  },
  {
   "cell_type": "code",
   "execution_count": 153,
   "metadata": {},
   "outputs": [
    {
     "data": {
      "text/html": [
       "<div>\n",
       "<style scoped>\n",
       "    .dataframe tbody tr th:only-of-type {\n",
       "        vertical-align: middle;\n",
       "    }\n",
       "\n",
       "    .dataframe tbody tr th {\n",
       "        vertical-align: top;\n",
       "    }\n",
       "\n",
       "    .dataframe thead th {\n",
       "        text-align: right;\n",
       "    }\n",
       "</style>\n",
       "<table border=\"1\" class=\"dataframe\">\n",
       "  <thead>\n",
       "    <tr style=\"text-align: right;\">\n",
       "      <th></th>\n",
       "      <th>title</th>\n",
       "      <th>date</th>\n",
       "      <th>author</th>\n",
       "      <th>content</th>\n",
       "      <th>content_segmented</th>\n",
       "    </tr>\n",
       "  </thead>\n",
       "  <tbody>\n",
       "    <tr>\n",
       "      <th>0</th>\n",
       "      <td>《新聞透視》花媽心內話 攪動初選排序</td>\n",
       "      <td>2017/12/26</td>\n",
       "      <td>【李義、林宏聰】</td>\n",
       "      <td>都是心內話，藍綠兩樣情！民進黨5立委搶當高雄市長陳菊接班人，讀著《花媽心內話》各自畫重點...</td>\n",
       "      <td>[都, 是, 心, 內話, 藍, 綠, 兩樣, 情, 民進黨, 5, 立委, 搶, 當, 高...</td>\n",
       "    </tr>\n",
       "    <tr>\n",
       "      <th>1</th>\n",
       "      <td>上任後第一把火 韓國瑜議會督軍 藍營炮火猛</td>\n",
       "      <td>2017/09/29</td>\n",
       "      <td>【林宏聰／高雄報導】</td>\n",
       "      <td>「這一小步，代表未來高雄政黨政治一大步！」新任國民黨高市黨部主委韓國瑜，28日首度進市議...</td>\n",
       "      <td>[這, 一, 小, 步, 代表, 未來, 高雄, 政黨, 政治, 一, 大, 步, 新任, ...</td>\n",
       "    </tr>\n",
       "    <tr>\n",
       "      <th>2</th>\n",
       "      <td>價格崩跌 買蕉贈弱勢 挺蕉農 韓國瑜籲政府扛責任</td>\n",
       "      <td>2017/10/15</td>\n",
       "      <td>【林雅惠／高雄報導】</td>\n",
       "      <td>國內香蕉價格自6月起持續下滑，至今產地收購價格每公斤2元到5元，國民黨高市黨部主委韓國瑜...</td>\n",
       "      <td>[國內, 香蕉, 價格, 自, 6月, 起, 持續, 下滑, 至今, 產地, 收購, 價格,...</td>\n",
       "    </tr>\n",
       "    <tr>\n",
       "      <th>3</th>\n",
       "      <td>主委坐鎮先禮後兵 藍標語激怒綠</td>\n",
       "      <td>2017/09/29</td>\n",
       "      <td>【林宏聰／高雄報導】</td>\n",
       "      <td>藍綠28日在議會先禮後兵，相互強調理性問政後，國民黨團隨即聯合質詢，重砲抨擊高雄人口變「...</td>\n",
       "      <td>[藍綠, 28日, 在, 議會, 先禮, 後兵, 相互, 強調, 理性, 問政, 後, 國民...</td>\n",
       "    </tr>\n",
       "    <tr>\n",
       "      <th>4</th>\n",
       "      <td>不禮讓 大綠議員提名36席起跳</td>\n",
       "      <td>2017/10/25</td>\n",
       "      <td>【李義／高雄報導】</td>\n",
       "      <td>明年大選，民進黨面臨內憂外患，內是新秀爭雄僧多粥少，外有國民黨明星主委韓國瑜領軍要搶攻議...</td>\n",
       "      <td>[明年, 大選, 民進黨, 面臨, 內憂外患, 內, 是, 新秀, 爭雄, 僧多粥少, 外,...</td>\n",
       "    </tr>\n",
       "  </tbody>\n",
       "</table>\n",
       "</div>"
      ],
      "text/plain": [
       "                      title        date      author  \\\n",
       "0        《新聞透視》花媽心內話 攪動初選排序  2017/12/26    【李義、林宏聰】   \n",
       "1     上任後第一把火 韓國瑜議會督軍 藍營炮火猛  2017/09/29  【林宏聰／高雄報導】   \n",
       "2  價格崩跌 買蕉贈弱勢 挺蕉農 韓國瑜籲政府扛責任  2017/10/15  【林雅惠／高雄報導】   \n",
       "3           主委坐鎮先禮後兵 藍標語激怒綠  2017/09/29  【林宏聰／高雄報導】   \n",
       "4           不禮讓 大綠議員提名36席起跳  2017/10/25   【李義／高雄報導】   \n",
       "\n",
       "                                             content  \\\n",
       "0    都是心內話，藍綠兩樣情！民進黨5立委搶當高雄市長陳菊接班人，讀著《花媽心內話》各自畫重點...   \n",
       "1    「這一小步，代表未來高雄政黨政治一大步！」新任國民黨高市黨部主委韓國瑜，28日首度進市議...   \n",
       "2    國內香蕉價格自6月起持續下滑，至今產地收購價格每公斤2元到5元，國民黨高市黨部主委韓國瑜...   \n",
       "3    藍綠28日在議會先禮後兵，相互強調理性問政後，國民黨團隨即聯合質詢，重砲抨擊高雄人口變「...   \n",
       "4    明年大選，民進黨面臨內憂外患，內是新秀爭雄僧多粥少，外有國民黨明星主委韓國瑜領軍要搶攻議...   \n",
       "\n",
       "                                   content_segmented  \n",
       "0  [都, 是, 心, 內話, 藍, 綠, 兩樣, 情, 民進黨, 5, 立委, 搶, 當, 高...  \n",
       "1  [這, 一, 小, 步, 代表, 未來, 高雄, 政黨, 政治, 一, 大, 步, 新任, ...  \n",
       "2  [國內, 香蕉, 價格, 自, 6月, 起, 持續, 下滑, 至今, 產地, 收購, 價格,...  \n",
       "3  [藍綠, 28日, 在, 議會, 先禮, 後兵, 相互, 強調, 理性, 問政, 後, 國民...  \n",
       "4  [明年, 大選, 民進黨, 面臨, 內憂外患, 內, 是, 新秀, 爭雄, 僧多粥少, 外,...  "
      ]
     },
     "execution_count": 153,
     "metadata": {},
     "output_type": "execute_result"
    }
   ],
   "source": [
    "df_data.head()"
   ]
  },
  {
   "cell_type": "code",
   "execution_count": 162,
   "metadata": {},
   "outputs": [],
   "source": [
    "#train:valid:test = 0.75:0.15:0.15\n",
    "train_ratio = 0.70\n",
    "valid_ratio = 0.15\n",
    "test_ratio = 0.15\n",
    "data_train, data_test = train_test_split(df_data, test_size = 1 - train_ratio, random_state = 43)\n",
    "data_valid, data_test = train_test_split(data_test, test_size = test_ratio/(test_ratio + valid_ratio), random_state = 21)"
   ]
  },
  {
   "cell_type": "code",
   "execution_count": 165,
   "metadata": {},
   "outputs": [
    {
     "name": "stdout",
     "output_type": "stream",
     "text": [
      "shape of training data = (5254, 5)\n",
      "shape of valid data = (1126, 5)\n",
      "shape of testing data = (1127, 5)\n"
     ]
    }
   ],
   "source": [
    "print(\"shape of training data = {}\".format(data_train.shape))\n",
    "print(\"shape of valid data = {}\".format(data_valid.shape))\n",
    "print(\"shape of testing data = {}\".format(data_test.shape))"
   ]
  },
  {
   "cell_type": "code",
   "execution_count": 166,
   "metadata": {},
   "outputs": [],
   "source": [
    "#save to pickle\n",
    "data_train.to_pickle(\"./data_train.pkl\")\n",
    "data_valid.to_pickle(\"./data_valid.pkl\")\n",
    "data_test.to_pickle(\"./data_test.pkl\")"
   ]
  }
 ],
 "metadata": {
  "kernelspec": {
   "display_name": "Python 3",
   "language": "python",
   "name": "python3"
  },
  "language_info": {
   "codemirror_mode": {
    "name": "ipython",
    "version": 3
   },
   "file_extension": ".py",
   "mimetype": "text/x-python",
   "name": "python",
   "nbconvert_exporter": "python",
   "pygments_lexer": "ipython3",
   "version": "3.6.8"
  }
 },
 "nbformat": 4,
 "nbformat_minor": 4
}
